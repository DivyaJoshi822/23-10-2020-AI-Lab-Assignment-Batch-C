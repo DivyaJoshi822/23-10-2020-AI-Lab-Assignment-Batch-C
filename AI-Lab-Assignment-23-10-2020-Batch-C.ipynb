{
 "cells": [
  {
   "cell_type": "code",
   "execution_count": 1,
   "metadata": {},
   "outputs": [
    {
     "name": "stdout",
     "output_type": "stream",
     "text": [
      "Input degrees: 15\n",
      "0.2619047619047619\n"
     ]
    }
   ],
   "source": [
    "pi=22/7\n",
    "degree = float(input(\"Input degrees: \"))\n",
    "radian = degree*(pi/180)\n",
    "print(radian)"
   ]
  },
  {
   "cell_type": "code",
   "execution_count": 3,
   "metadata": {},
   "outputs": [
    {
     "name": "stdout",
     "output_type": "stream",
     "text": [
      "Input radians: 0.52\n",
      "29.781818181818185\n"
     ]
    }
   ],
   "source": [
    "pi=22/7\n",
    "radian = float(input(\"Input radians: \"))\n",
    "degree = radian*(180/pi)\n",
    "print(degree)"
   ]
  },
  {
   "cell_type": "code",
   "execution_count": 4,
   "metadata": {},
   "outputs": [
    {
     "name": "stdout",
     "output_type": "stream",
     "text": [
      "Height of trapezoid: 5\n",
      "Base one value: 5\n",
      "Base two value: 6\n",
      "Area is: 27.5\n"
     ]
    }
   ],
   "source": [
    "base_1 = 5\n",
    "base_2 = 6\n",
    "height = float(input(\"Height of trapezoid: \"))\n",
    "base_1 = float(input('Base one value: '))\n",
    "base_2 = float(input('Base two value: '))\n",
    "area = ((base_1 + base_2) / 2) * height\n",
    "print(\"Area is:\", area)"
   ]
  },
  {
   "cell_type": "code",
   "execution_count": 5,
   "metadata": {},
   "outputs": [
    {
     "name": "stdout",
     "output_type": "stream",
     "text": [
      "Length of base: 5\n",
      "Measurement of height: 6\n",
      "Area is:  30.0\n"
     ]
    }
   ],
   "source": [
    "base = float(input('Length of base: '))\n",
    "height = float(input('Measurement of height: '))\n",
    "area = base * height\n",
    "print(\"Area is: \", area)"
   ]
  },
  {
   "cell_type": "code",
   "execution_count": 6,
   "metadata": {},
   "outputs": [
    {
     "name": "stdout",
     "output_type": "stream",
     "text": [
      "Height of cylinder: 4\n",
      "Radius of cylinder: 6\n",
      "Volume is:  452.57142857142856\n",
      "Surface Area is:  377.1428571428571\n"
     ]
    }
   ],
   "source": [
    "pi=22/7\n",
    "height = float(input('Height of cylinder: '))\n",
    "radian = float(input('Radius of cylinder: '))\n",
    "volume = pi * radian * radian * height\n",
    "sur_area = ((2*pi*radian) * height) + ((pi*radian**2)*2)\n",
    "print(\"Volume is: \", volume)\n",
    "print(\"Surface Area is: \", sur_area)"
   ]
  },
  {
   "cell_type": "code",
   "execution_count": 8,
   "metadata": {},
   "outputs": [
    {
     "name": "stdout",
     "output_type": "stream",
     "text": [
      "Radius of sphere: 0.75\n",
      "Surface Area is:  7.071428571428571\n",
      "Volume is:  1.7678571428571428\n"
     ]
    }
   ],
   "source": [
    "pi=22/7\n",
    "radian = float(input('Radius of sphere: '))\n",
    "sur_area = 4 * pi * radian **2\n",
    "volume = (4/3) * (pi * radian ** 3)\n",
    "print(\"Surface Area is: \", sur_area)\n",
    "print(\"Volume is: \", volume)"
   ]
  },
  {
   "cell_type": "code",
   "execution_count": 9,
   "metadata": {},
   "outputs": [
    {
     "name": "stdout",
     "output_type": "stream",
     "text": [
      "Diameter of circle: 8\n",
      "angle measure: 45\n",
      "Arc Length is:  3.142857142857143\n"
     ]
    }
   ],
   "source": [
    "def arclength():\n",
    "    pi=22/7\n",
    "    diameter = float(input('Diameter of circle: '))\n",
    "    angle = float(input('angle measure: '))\n",
    "    if angle >= 360:\n",
    "        print(\"Angle is not possible\")\n",
    "        return\n",
    "    arc_length = (pi*diameter) * (angle/360)\n",
    "    print(\"Arc Length is: \", arc_length)\n",
    "\n",
    "arclength()"
   ]
  },
  {
   "cell_type": "code",
   "execution_count": 10,
   "metadata": {},
   "outputs": [
    {
     "name": "stdout",
     "output_type": "stream",
     "text": [
      "Radius of Circle: 4\n",
      "angle measure: 45\n",
      "Sector Area:  6.285714285714286\n"
     ]
    }
   ],
   "source": [
    "def sectorarea():\n",
    "    pi=22/7\n",
    "    radius = float(input('Radius of Circle: '))\n",
    "    angle = float(input('angle measure: '))\n",
    "    if angle >= 360:\n",
    "        print(\"Angle is not possible\")\n",
    "        return\n",
    "    sur_area = (pi*radius**2) * (angle/360)\n",
    "    print(\"Sector Area: \", sur_area)\n",
    "\n",
    "sectorarea()"
   ]
  },
  {
   "cell_type": "code",
   "execution_count": 11,
   "metadata": {},
   "outputs": [
    {
     "name": "stdout",
     "output_type": "stream",
     "text": [
      "The x value: 4\n",
      "The y value: 0\n",
      "The z value: -4\n",
      "Two Solutions. Discriminant value is: 64.0\n"
     ]
    }
   ],
   "source": [
    "def discriminant():\n",
    "    x_value = float(input('The x value: '))\n",
    "    y_value = float(input('The y value: '))\n",
    "    z_value = float(input('The z value: '))\n",
    "    discriminant = (y_value**2) - (4*x_value*z_value)\n",
    "    if discriminant > 0:\n",
    "        print('Two Solutions. Discriminant value is:', discriminant)\n",
    "    elif discriminant == 0:\n",
    "        print('One Solution. Discriminant value is:', discriminant)\n",
    "    elif discriminant < 0:\n",
    "        print('No Real Solutions. Discriminant value is:', discriminant)\n",
    "\n",
    "\n",
    "discriminant()"
   ]
  },
  {
   "cell_type": "code",
   "execution_count": 18,
   "metadata": {},
   "outputs": [
    {
     "name": "stdout",
     "output_type": "stream",
     "text": [
      "[13, 12, 11, 10, 9, 8, 7]\n",
      "360360\n"
     ]
    }
   ],
   "source": [
    "def smallest_multiple(n):\n",
    "    if (n<=2):\n",
    "      return n\n",
    "    i = n * 2\n",
    "    factors = [number  for number in range(n, 1, -1) if number * 2 > n]\n",
    "    print(factors)\n",
    "\n",
    "    while True:\n",
    "        for a in factors:\n",
    "            if i % a != 0:\n",
    "                i += n\n",
    "                break\n",
    "            if (a == factors[-1] and i % a == 0):\n",
    "                return i\n",
    "                \n",
    "print(smallest_multiple(13))"
   ]
  },
  {
   "cell_type": "code",
   "execution_count": 19,
   "metadata": {},
   "outputs": [
    {
     "name": "stdout",
     "output_type": "stream",
     "text": [
      "5434\n"
     ]
    }
   ],
   "source": [
    "def sum_difference(n=2):\n",
    "    sum_of_squares = 0\n",
    "    square_of_sum = 0\n",
    "    for num in range(1, n+1):\n",
    "        sum_of_squares += num * num\n",
    "        square_of_sum += num\n",
    "\n",
    "    square_of_sum = square_of_sum ** 2\n",
    "\n",
    "    return square_of_sum - sum_of_squares\n",
    "\n",
    "\n",
    "print(sum_difference(12))"
   ]
  },
  {
   "cell_type": "code",
   "execution_count": 20,
   "metadata": {},
   "outputs": [
    {
     "name": "stdout",
     "output_type": "stream",
     "text": [
      "115\n"
     ]
    }
   ],
   "source": [
    "def power_base_sum(base, power):\n",
    "    return sum([int(i) for i in str(pow(base, power))])\n",
    "\n",
    "\n",
    "print(power_base_sum(2, 100))"
   ]
  },
  {
   "cell_type": "code",
   "execution_count": 21,
   "metadata": {},
   "outputs": [
    {
     "name": "stdout",
     "output_type": "stream",
     "text": [
      "True\n",
      "False\n"
     ]
    }
   ],
   "source": [
    "def is_abundant(n):\n",
    "    fctr_sum = sum([fctr for fctr in range(1, n) if n % fctr == 0])\n",
    "    return fctr_sum > n\n",
    "print(is_abundant(12))\n",
    "print(is_abundant(13))"
   ]
  },
  {
   "cell_type": "code",
   "execution_count": 23,
   "metadata": {},
   "outputs": [
    {
     "name": "stdout",
     "output_type": "stream",
     "text": [
      "31626\n",
      "504\n",
      "0\n"
     ]
    }
   ],
   "source": [
    "def amicable_numbers_sum(limit):\n",
    "    if not isinstance(limit, int):\n",
    "        return \"Input is not an integer!\"\n",
    "\n",
    "    if limit < 1:\n",
    "        return \"Input must be bigger than 0!\"\n",
    "\n",
    "    amicables = set()\n",
    "\n",
    "    for num in range(2, limit+1):\n",
    "        if num in amicables:\n",
    "            continue\n",
    "\n",
    "        sum_fact = sum([fact for fact in range(1, num) if num % fact == 0])\n",
    "        sum_fact2 = sum([fact for fact in range(1, sum_fact) if sum_fact % fact == 0])\n",
    "        if num == sum_fact2 and num != sum_fact:\n",
    "            amicables.add(num)\n",
    "            amicables.add(sum_fact2)\n",
    "\n",
    "    return sum(amicables)\n",
    "\n",
    "\n",
    "print(amicable_numbers_sum(9999))\n",
    "print(amicable_numbers_sum(999))\n",
    "print(amicable_numbers_sum(99))"
   ]
  },
  {
   "cell_type": "code",
   "execution_count": 24,
   "metadata": {},
   "outputs": [
    {
     "name": "stdout",
     "output_type": "stream",
     "text": [
      "7\n",
      "16\n"
     ]
    }
   ],
   "source": [
    "def sum_div(number):\n",
    "    divisors = [1]\n",
    "    for i in range(2, number):\n",
    "        if (number % i)==0:\n",
    "            divisors.append(i)\n",
    "    return sum(divisors)\n",
    "print(sum_div(8))\n",
    "print(sum_div(12))"
   ]
  },
  {
   "cell_type": "code",
   "execution_count": 25,
   "metadata": {},
   "outputs": [
    {
     "name": "stdout",
     "output_type": "stream",
     "text": [
      "['ABCD', 'BACD', 'BCAD', 'BCDA', 'ACBD', 'CABD', 'CBAD', 'CBDA', 'ACDB', 'CADB', 'CDAB', 'CDBA', 'ABDC', 'BADC', 'BDAC', 'BDCA', 'ADBC', 'DABC', 'DBAC', 'DBCA', 'ADCB', 'DACB', 'DCAB', 'DCBA']\n"
     ]
    }
   ],
   "source": [
    "def permute_string(str):\n",
    "    if len(str) == 0:\n",
    "        return ['']\n",
    "    prev_list = permute_string(str[1:len(str)])\n",
    "    next_list = []\n",
    "    for i in range(0,len(prev_list)):\n",
    "        for j in range(0,len(str)):\n",
    "            new_str = prev_list[i][0:j]+str[0]+prev_list[i][j:len(str)-1]\n",
    "            if new_str not in next_list:\n",
    "                next_list.append(new_str)\n",
    "    return next_list\n",
    "\n",
    "print(permute_string('ABCD'));"
   ]
  },
  {
   "cell_type": "code",
   "execution_count": 27,
   "metadata": {},
   "outputs": [
    {
     "name": "stdout",
     "output_type": "stream",
     "text": [
      "Input a Number: 10\n",
      "[1, 3, 7, 9, 13, 15, 21, 25, 31, 33]\n"
     ]
    }
   ],
   "source": [
    "n=int(input(\"Input a Number: \"))\n",
    "List=range(-1,n*n+9,2)\n",
    "i=2\n",
    "while List[i:]:List=sorted(set(List)-set(List[List[i]::List[i]]));i+=1\n",
    "print(List[1:n+1])"
   ]
  },
  {
   "cell_type": "code",
   "execution_count": 29,
   "metadata": {},
   "outputs": [
    {
     "name": "stdout",
     "output_type": "stream",
     "text": [
      "The Square root of 0.4 = 0.5477225575051661\n"
     ]
    }
   ],
   "source": [
    "def BabylonianAlgorithm(number):\n",
    "    if(number == 0):\n",
    "        return 0;\n",
    "\n",
    "    g = number/2.0;\n",
    "    g2 = g + 1;\n",
    "    while(g != g2):\n",
    "        n = number/ g;\n",
    "        g2 = g;\n",
    "        g = (g + n)/2;\n",
    "\n",
    "    return g;\n",
    "print('The Square root of 0.4 =', BabylonianAlgorithm(0.3));"
   ]
  },
  {
   "cell_type": "code",
   "execution_count": 30,
   "metadata": {},
   "outputs": [
    {
     "name": "stdout",
     "output_type": "stream",
     "text": [
      "48\n"
     ]
    }
   ],
   "source": [
    "def multiply(x, y):\n",
    "    if y < 0:\n",
    "        return -multiply(x, -y)\n",
    "    elif y == 0:\n",
    "        return 0\n",
    "    elif y == 1:\n",
    "        return x\n",
    "    else:\n",
    "        return x + multiply(x, y - 1)\n",
    "\n",
    "print(multiply(8, 6));"
   ]
  },
  {
   "cell_type": "code",
   "execution_count": 31,
   "metadata": {},
   "outputs": [
    {
     "name": "stdout",
     "output_type": "stream",
     "text": [
      "True\n",
      "True\n",
      "False\n"
     ]
    }
   ],
   "source": [
    "def magic_square_test(my_matrix):\n",
    "    iSize = len(my_matrix[0])\n",
    "    sum_list = []\n",
    "    \n",
    "    #Horizontal Part:\n",
    "    sum_list.extend([sum (lines) for lines in my_matrix])   \n",
    "\n",
    "    #Vertical Part:\n",
    "    for col in range(iSize):\n",
    "        sum_list.append(sum(row[col] for row in my_matrix))\n",
    "    \n",
    "    #Diagonals Part\n",
    "    result1 = 0\n",
    "    for i in range(0,iSize):\n",
    "        result1 +=my_matrix[i][i]\n",
    "    sum_list.append(result1)  \n",
    "    \n",
    "    result2 = 0\n",
    "    for i in range(iSize-1,-1,-1):\n",
    "        result2 +=my_matrix[i][i]\n",
    "    sum_list.append(result2)\n",
    "\n",
    "    if len(set(sum_list))>1:\n",
    "        return False\n",
    "    return True\n",
    "\n",
    "m=[[7, 12, 1, 14], [2, 13, 8, 11], [16, 3, 10, 5], [9, 6, 15, 4]] \n",
    "print(magic_square_test(m));\n",
    "\n",
    "m=[[2, 7, 6], [9, 5, 1], [4, 3, 8]]\n",
    "print(magic_square_test(m));\n",
    "\n",
    "m=[[2, 7, 6], [9, 5, 1], [4, 3, 7]]\n",
    "print(magic_square_test(m));"
   ]
  },
  {
   "cell_type": "code",
   "execution_count": 32,
   "metadata": {},
   "outputs": [
    {
     "name": "stdout",
     "output_type": "stream",
     "text": [
      "[2, 3, 5, 7, 11, 13, 17, 19, 23, 29, 31, 37, 41, 43, 47, 53, 59, 61, 67, 71, 73, 79, 83, 89, 97]\n"
     ]
    }
   ],
   "source": [
    "def sieve_of_Eratosthenes(num):\n",
    "    limitn = num+1\n",
    "    not_prime_num = set()\n",
    "    prime_nums = []\n",
    "\n",
    "    for i in range(2, limitn):\n",
    "        if i in not_prime_num:\n",
    "            continue\n",
    "\n",
    "        for f in range(i*2, limitn, i):\n",
    "            not_prime_num.add(f)\n",
    "\n",
    "        prime_nums.append(i)\n",
    "\n",
    "    return prime_nums\n",
    "\n",
    "print(sieve_of_Eratosthenes(100));"
   ]
  },
  {
   "cell_type": "code",
   "execution_count": 35,
   "metadata": {},
   "outputs": [
    {
     "name": "stdout",
     "output_type": "stream",
     "text": [
      "101\n",
      "1331\n"
     ]
    }
   ],
   "source": [
    "import sys\n",
    "def Next_smallest_Palindrome(num):\n",
    "    numstr = str(num)\n",
    "    for i in range(num+1,sys.maxsize):\n",
    "        if str(i) == str(i)[::-1]:\n",
    "            return i\n",
    "\n",
    "print(Next_smallest_Palindrome(99));\n",
    "print(Next_smallest_Palindrome(1221));"
   ]
  },
  {
   "cell_type": "code",
   "execution_count": 36,
   "metadata": {},
   "outputs": [
    {
     "name": "stdout",
     "output_type": "stream",
     "text": [
      "88\n",
      "1111\n"
     ]
    }
   ],
   "source": [
    "def Previous_Palindrome(num):\n",
    "    for x in range(num-1,0,-1):\n",
    "        if str(x) == str(x)[::-1]:\n",
    "            return x\n",
    "print(Previous_Palindrome(99));\n",
    "print(Previous_Palindrome(1221));"
   ]
  },
  {
   "cell_type": "code",
   "execution_count": 37,
   "metadata": {},
   "outputs": [
    {
     "name": "stdout",
     "output_type": "stream",
     "text": [
      "21/5\n"
     ]
    }
   ],
   "source": [
    "from fractions import Fraction\n",
    "value = 4.2\n",
    "print(Fraction(value).limit_denominator())"
   ]
  },
  {
   "cell_type": "code",
   "execution_count": 39,
   "metadata": {},
   "outputs": [
    {
     "name": "stdout",
     "output_type": "stream",
     "text": [
      "1\n",
      "1\n",
      "2\n",
      "5\n",
      "14\n",
      "42\n",
      "132\n",
      "429\n",
      "1430\n",
      "4862\n",
      "16796\n",
      "58786\n"
     ]
    }
   ],
   "source": [
    "def catalan_number(num):\n",
    "    if num <=1:\n",
    "         return 1\n",
    "   \n",
    "    res_num = 0\n",
    "    for i in range(num):\n",
    "        res_num += catalan_number(i) * catalan_number(num-i-1)\n",
    "    return res_num\n",
    " \n",
    "for n in range(12):\n",
    "    print(catalan_number(n))"
   ]
  },
  {
   "cell_type": "code",
   "execution_count": 42,
   "metadata": {},
   "outputs": [
    {
     "name": "stdout",
     "output_type": "stream",
     "text": [
      "Enter a number : 20000\n",
      "20,000\n"
     ]
    }
   ],
   "source": [
    "def getThousandSeparator(num):\n",
    "    return '{:,}'.format(num)\n",
    "\n",
    "print(getThousandSeparator(int(input(\"Enter a number : \"))))"
   ]
  },
  {
   "cell_type": "code",
   "execution_count": 43,
   "metadata": {},
   "outputs": [
    {
     "name": "stdout",
     "output_type": "stream",
     "text": [
      "Input coordinates of two points:\n",
      "Starting latitude: 23.5\n",
      "Ending longitude: 67.5\n",
      "Starting latitude: 25.3\n",
      "Ending longitude: 69.5\n",
      "The distance is 284.73km.\n"
     ]
    }
   ],
   "source": [
    "from math import radians, sin, cos, acos\n",
    "\n",
    "print(\"Input coordinates of two points:\")\n",
    "slat = radians(float(input(\"Starting latitude: \")))\n",
    "slon = radians(float(input(\"Ending longitude: \")))\n",
    "elat = radians(float(input(\"Starting latitude: \")))\n",
    "elon = radians(float(input(\"Ending longitude: \")))\n",
    "\n",
    "dist = 6371.01 * acos(sin(slat)*sin(elat) + cos(slat)*cos(elat)*cos(slon - elon))\n",
    "print(\"The distance is %.2fkm.\" % dist)"
   ]
  },
  {
   "cell_type": "code",
   "execution_count": 44,
   "metadata": {},
   "outputs": [
    {
     "name": "stdout",
     "output_type": "stream",
     "text": [
      "Input number of sides: 4\n",
      "Input the length of a side: 25\n",
      "The area of the polygon is:  625.0000000000001\n"
     ]
    }
   ],
   "source": [
    "from math import tan, pi\n",
    "n_sides = int(input(\"Input number of sides: \"))\n",
    "s_length = float(input(\"Input the length of a side: \"))\n",
    "p_area = n_sides * (s_length ** 2) / (4 * tan(pi / n_sides))\n",
    "print(\"The area of the polygon is: \",p_area)"
   ]
  },
  {
   "cell_type": "code",
   "execution_count": 45,
   "metadata": {},
   "outputs": [
    {
     "name": "stdout",
     "output_type": "stream",
     "text": [
      "Input wind speed in kilometers/hour: 150\n",
      "Input air temperature in degrees Celsius: 29\n",
      "The wind chill index is 31\n"
     ]
    }
   ],
   "source": [
    "import math\n",
    "v = float(input(\"Input wind speed in kilometers/hour: \"))\n",
    "t = float(input(\"Input air temperature in degrees Celsius: \"))\n",
    "wci = 13.12 + 0.6215*t -  11.37*math.pow(v, 0.16) + 0.3965*t*math.pow(v, 0.16)\n",
    "print(\"The wind chill index is\", int(round(wci, 0)))"
   ]
  },
  {
   "cell_type": "code",
   "execution_count": 46,
   "metadata": {},
   "outputs": [
    {
     "name": "stdout",
     "output_type": "stream",
     "text": [
      "Quadratic function : (a * x^2) + b*x + c\n",
      "a: 25\n",
      "b: 64\n",
      "c: 36\n",
      "There are 2 roots: -0.834579 and -1.725421\n"
     ]
    }
   ],
   "source": [
    "from math import sqrt\n",
    "\n",
    "print(\"Quadratic function : (a * x^2) + b*x + c\")\n",
    "a = float(input(\"a: \"))\n",
    "b = float(input(\"b: \"))\n",
    "c = float(input(\"c: \"))\n",
    "\n",
    "r = b**2 - 4*a*c\n",
    "\n",
    "if r > 0:\n",
    "    num_roots = 2\n",
    "    x1 = (((-b) + sqrt(r))/(2*a))     \n",
    "    x2 = (((-b) - sqrt(r))/(2*a))\n",
    "    print(\"There are 2 roots: %f and %f\" % (x1, x2))\n",
    "elif r == 0:\n",
    "    num_roots = 1\n",
    "    x = (-b) / 2*a\n",
    "    print(\"There is one root: \", x)\n",
    "else:\n",
    "    num_roots = 0\n",
    "    print(\"No roots, discriminant < 0.\")\n",
    "    exit()"
   ]
  },
  {
   "cell_type": "code",
   "execution_count": 48,
   "metadata": {},
   "outputs": [
    {
     "name": "stdout",
     "output_type": "stream",
     "text": [
      "Input a binary number: 101011\n",
      "The decimal value of the number is 43\n"
     ]
    }
   ],
   "source": [
    "b_num = list(input(\"Input a binary number: \"))\n",
    "value = 0\n",
    "\n",
    "for i in range(len(b_num)):\n",
    "    digit = b_num.pop()\n",
    "    if digit == '1':\n",
    "        value = value + pow(2, i)\n",
    "print(\"The decimal value of the number is\", value)"
   ]
  },
  {
   "cell_type": "code",
   "execution_count": 49,
   "metadata": {},
   "outputs": [
    {
     "name": "stdout",
     "output_type": "stream",
     "text": [
      "Complex Number:  (2+3j)\n",
      "Complex Number - Real part:  2.0\n",
      "Complex Number - Imaginary part:  3.0\n"
     ]
    }
   ],
   "source": [
    "#Initialize a complex number\n",
    "cn = complex(2,3)\n",
    "print(\"Complex Number: \",cn)\n",
    "print(\"Complex Number - Real part: \",cn.real)\n",
    "print(\"Complex Number - Imaginary part: \",cn.imag)"
   ]
  },
  {
   "cell_type": "code",
   "execution_count": 50,
   "metadata": {},
   "outputs": [
    {
     "name": "stdout",
     "output_type": "stream",
     "text": [
      "Addition of two complex numbers :  (7-4j)\n",
      "Subtraction of two complex numbers :  (1+10j)\n",
      "Multiplication of two complex numbers :  (33-19j)\n",
      "Division of two complex numbers :  (-0.15517241379310348+0.6379310344827587j)\n"
     ]
    }
   ],
   "source": [
    "print(\"Addition of two complex numbers : \",(4+3j)+(3-7j))\n",
    "print(\"Subtraction of two complex numbers : \",(4+3j)-(3-7j))\n",
    "print(\"Multiplication of two complex numbers : \",(4+3j)*(3-7j))\n",
    "print(\"Division of two complex numbers : \",(4+3j)/(3-7j))"
   ]
  },
  {
   "cell_type": "code",
   "execution_count": 51,
   "metadata": {},
   "outputs": [
    {
     "name": "stdout",
     "output_type": "stream",
     "text": [
      "Length of a complex number:  5.0\n",
      "Complex number Angle:  1.5707963267948966\n"
     ]
    }
   ],
   "source": [
    "import cmath\n",
    "cn = complex(3,4)\n",
    "#length of a complex number. \n",
    "print(\"Length of a complex number: \", abs(cn))\n",
    "# gets angle. return in radians, between  [-π, π]\n",
    "print(\"Complex number Angle: \",cmath.phase(0+1j) )"
   ]
  },
  {
   "cell_type": "code",
   "execution_count": 52,
   "metadata": {},
   "outputs": [
    {
     "name": "stdout",
     "output_type": "stream",
     "text": [
      "Polar Coordinates:  (5.0, 0.9272952180016122)\n",
      "Polar to rectangular:  (-2+2.4492935982947064e-16j)\n"
     ]
    }
   ],
   "source": [
    "import cmath\n",
    "cn = complex(3,4)\n",
    "# get polar coordinates\n",
    "print(\"Polar Coordinates: \",cmath.polar(cn))\n",
    "\n",
    "# polar to rectangular. Format for input is (length, ‹angle in radians›).\n",
    "#Returns a complex number\n",
    "cn1 = cmath.rect(2, cmath.pi)\n",
    "print(\"Polar to rectangular: \",cn1)"
   ]
  },
  {
   "cell_type": "code",
   "execution_count": 53,
   "metadata": {},
   "outputs": [
    {
     "name": "stdout",
     "output_type": "stream",
     "text": [
      "Maximum:  7.25\n",
      "Minimum:  0.04\n"
     ]
    }
   ],
   "source": [
    "from decimal import *\n",
    "data = list(map(Decimal, '2.45 2.69 2.45 3.45 2.00 0.04 7.25'.split()))\n",
    "print(\"Maximum: \", max(data))\n",
    "print(\"Minimum: \", min(data))"
   ]
  },
  {
   "cell_type": "code",
   "execution_count": 54,
   "metadata": {},
   "outputs": [
    {
     "name": "stdout",
     "output_type": "stream",
     "text": [
      "Sum:  20.33\n",
      "Sorted order:  [Decimal('0.04'), Decimal('2.00'), Decimal('2.45'), Decimal('2.45'), Decimal('2.69'), Decimal('3.45'), Decimal('7.25')]\n"
     ]
    }
   ],
   "source": [
    "from decimal import *\n",
    "data = list(map(Decimal, '2.45 2.69 2.45 3.45 2.00 0.04 7.25'.split()))\n",
    "print(\"Sum: \", sum(data))\n",
    "print(\"Sorted order: \", sorted(data))"
   ]
  },
  {
   "cell_type": "code",
   "execution_count": 55,
   "metadata": {},
   "outputs": [
    {
     "name": "stdout",
     "output_type": "stream",
     "text": [
      "Square root of  1.44  is : 1.2\n",
      "exponential of  1.44  is : 4.220695816996552825673328929\n"
     ]
    }
   ],
   "source": [
    "from decimal import *\n",
    "x = Decimal('1.44')\n",
    "print(\"Square root of \",x, \" is :\", x.sqrt())\n",
    "print(\"exponential of \",x, \" is :\", x.exp())"
   ]
  },
  {
   "cell_type": "code",
   "execution_count": 56,
   "metadata": {},
   "outputs": [
    {
     "name": "stdout",
     "output_type": "stream",
     "text": [
      "Emax     = 999999\n",
      "Emin     = -999999\n",
      "capitals = 1\n",
      "prec     = 28\n",
      "rounding = ROUND_HALF_EVEN\n",
      "flags    =\n",
      "  <class 'decimal.InvalidOperation'>: False\n",
      "  <class 'decimal.FloatOperation'>: False\n",
      "  <class 'decimal.DivisionByZero'>: False\n",
      "  <class 'decimal.Overflow'>: False\n",
      "  <class 'decimal.Underflow'>: False\n",
      "  <class 'decimal.Subnormal'>: False\n",
      "  <class 'decimal.Inexact'>: False\n",
      "  <class 'decimal.Rounded'>: False\n",
      "  <class 'decimal.Clamped'>: False\n",
      "traps    =\n",
      "  <class 'decimal.InvalidOperation'>: True\n",
      "  <class 'decimal.FloatOperation'>: False\n",
      "  <class 'decimal.DivisionByZero'>: True\n",
      "  <class 'decimal.Overflow'>: True\n",
      "  <class 'decimal.Underflow'>: False\n",
      "  <class 'decimal.Subnormal'>: False\n",
      "  <class 'decimal.Inexact'>: False\n",
      "  <class 'decimal.Rounded'>: False\n",
      "  <class 'decimal.Clamped'>: False\n"
     ]
    }
   ],
   "source": [
    "import decimal\n",
    "context = decimal.getcontext()\n",
    "print('Emax     =', context.Emax)\n",
    "print('Emin     =', context.Emin)\n",
    "print('capitals =', context.capitals)\n",
    "print('prec     =', context.prec)\n",
    "print('rounding =', context.rounding)\n",
    "print('flags    =')\n",
    "for x, y in context.flags.items():\n",
    "    print('  {}: {}'.format(x, y))\n",
    "print('traps    =')\n",
    "for x, y in context.traps.items():\n",
    "    print('  {}: {}'.format(x, y))"
   ]
  },
  {
   "cell_type": "code",
   "execution_count": 57,
   "metadata": {},
   "outputs": [
    {
     "name": "stdout",
     "output_type": "stream",
     "text": [
      "Original Number :  0.26598\n",
      "Precision- 1 : 0.3\n",
      "Precision- 2 : 0.27\n",
      "Precision- 3 : 0.266\n",
      "Precision- 4 : 0.2660\n"
     ]
    }
   ],
   "source": [
    "import decimal\n",
    "\n",
    "d = decimal.Decimal('00.26598')\n",
    "print(\"Original Number : \",d)\n",
    "for i in range(1, 5):\n",
    "    decimal.getcontext().prec = i\n",
    "    print(\"Precision-\",i, ':', d * 1)"
   ]
  },
  {
   "cell_type": "code",
   "execution_count": null,
   "metadata": {},
   "outputs": [],
   "source": []
  }
 ],
 "metadata": {
  "kernelspec": {
   "display_name": "Python 3",
   "language": "python",
   "name": "python3"
  },
  "language_info": {
   "codemirror_mode": {
    "name": "ipython",
    "version": 3
   },
   "file_extension": ".py",
   "mimetype": "text/x-python",
   "name": "python",
   "nbconvert_exporter": "python",
   "pygments_lexer": "ipython3",
   "version": "3.8.3"
  }
 },
 "nbformat": 4,
 "nbformat_minor": 4
}
